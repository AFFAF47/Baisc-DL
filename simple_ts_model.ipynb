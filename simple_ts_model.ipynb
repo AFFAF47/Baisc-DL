{
 "cells": [
  {
   "cell_type": "code",
   "execution_count": 1,
   "metadata": {},
   "outputs": [],
   "source": [
    "import tensorflow as tf\n",
    "import numpy as np\n",
    "import matplotlib.pyplot as plt"
   ]
  },
  {
   "cell_type": "code",
   "execution_count": 8,
   "metadata": {},
   "outputs": [],
   "source": [
    "def plot_series(time, series, format = '-', start = 0, end = None):\n",
    "    plt.plot(time[start:end], series[start:end], format)\n",
    "    plt.xlabel('Time')\n",
    "    plt.ylabel('Value')\n",
    "    plt.grid(True)\n",
    "\n",
    "def trend(time, slope = 0):\n",
    "    return slope * time\n",
    "\n",
    "def seasonal_pattern(season_time):\n",
    "    return np.where(season_time < 0.4, np.cos(season_time * 2 * np.pi), 1/np.exp(season_time * 3))\n",
    "\n",
    "def seasonality(time, period, amplitude = 1, phase = 0):\n",
    "    season_time = ((time + phase) % period) / period\n",
    "    return amplitude * seasonal_pattern(season_time)\n",
    "\n",
    "def noise(time, noise_level = 1, seed = None):\n",
    "    rnd = np.random.RandomState(seed)\n",
    "    return rnd.randn(len(time)) * noise_level"
   ]
  },
  {
   "cell_type": "code",
   "execution_count": 9,
   "metadata": {},
   "outputs": [],
   "source": [
    "time = np.arange(4 * 365 + 1, dtype=\"float32\")\n",
    "baseline = 10\n",
    "series = trend(time, 0.1)  \n",
    "baseline = 10\n",
    "amplitude = 40\n",
    "slope = 0.05\n",
    "noise_level = 5\n",
    "\n",
    "series = baseline + trend(time, slope) + seasonality(time, period = 365, amplitude = amplitude)\n",
    "\n",
    "series += noise(time, noise_level, seed = 42)"
   ]
  },
  {
   "cell_type": "code",
   "execution_count": 10,
   "metadata": {},
   "outputs": [],
   "source": [
    "split_time = 1000\n",
    "time_train = time[:split_time]\n",
    "x_train = series[:split_time]\n",
    "time_valid = time[split_time:]\n",
    "x_valid = series[split_time:]\n",
    "\n",
    "window_size = 20\n",
    "batch_size = 32\n",
    "shuffle_buffer_size = 1000"
   ]
  },
  {
   "cell_type": "code",
   "execution_count": 12,
   "metadata": {},
   "outputs": [],
   "source": [
    "def windowed_dataset(series, window_size, batch_size, shuffle_buffer):\n",
    "    dataset = tf.data.Dataset.from_tensor_slices(series)\n",
    "    dataset = dataset.window(window_size + 1, shift = 1, drop_remainder = True)\n",
    "    dataset = dataset.flat_map(lambda window: window.batch(window_size + 1))\n",
    "    dataset = dataset.shuffle(shuffle_buffer).map(lambda window: (window[:-1], window[-1]))\n",
    "    dataset = dataset.batch(batch_size).prefetch(1)\n",
    "    return dataset"
   ]
  },
  {
   "cell_type": "code",
   "execution_count": 16,
   "metadata": {},
   "outputs": [
    {
     "name": "stdout",
     "output_type": "stream",
     "text": [
      "<PrefetchDataset shapes: ((None, None), (None,)), types: (tf.float32, tf.float32)>\n",
      "Epoch 1/100\n",
      "31/31 [==============================] - 1s 20ms/step - loss: 1727.2153 - accuracy: 0.0000e+00\n",
      "Epoch 2/100\n",
      "31/31 [==============================] - 0s 823us/step - loss: 262.4458 - accuracy: 0.0000e+00\n",
      "Epoch 3/100\n",
      "31/31 [==============================] - 0s 831us/step - loss: 166.9753 - accuracy: 0.0000e+00\n",
      "Epoch 4/100\n",
      "31/31 [==============================] - 0s 868us/step - loss: 138.4273 - accuracy: 0.0000e+00\n",
      "Epoch 5/100\n",
      "31/31 [==============================] - 0s 894us/step - loss: 123.9024 - accuracy: 0.0000e+00\n",
      "Epoch 6/100\n",
      "31/31 [==============================] - 0s 806us/step - loss: 112.8746 - accuracy: 0.0000e+00\n",
      "Epoch 7/100\n",
      "31/31 [==============================] - 0s 851us/step - loss: 106.7283 - accuracy: 0.0000e+00\n",
      "Epoch 8/100\n",
      "31/31 [==============================] - 0s 809us/step - loss: 99.8553 - accuracy: 0.0000e+00\n",
      "Epoch 9/100\n",
      "31/31 [==============================] - 0s 880us/step - loss: 96.2582 - accuracy: 0.0000e+00\n",
      "Epoch 10/100\n",
      "31/31 [==============================] - 0s 799us/step - loss: 92.2822 - accuracy: 0.0000e+00\n",
      "Epoch 11/100\n",
      "31/31 [==============================] - 0s 811us/step - loss: 88.6080 - accuracy: 0.0000e+00\n",
      "Epoch 12/100\n",
      "31/31 [==============================] - 0s 821us/step - loss: 84.1710 - accuracy: 0.0000e+00\n",
      "Epoch 13/100\n",
      "31/31 [==============================] - 0s 828us/step - loss: 81.9565 - accuracy: 0.0000e+00\n",
      "Epoch 14/100\n",
      "31/31 [==============================] - 0s 896us/step - loss: 78.9549 - accuracy: 0.0000e+00\n",
      "Epoch 15/100\n",
      "31/31 [==============================] - 0s 866us/step - loss: 76.2367 - accuracy: 0.0000e+00\n",
      "Epoch 16/100\n",
      "31/31 [==============================] - 0s 815us/step - loss: 74.5551 - accuracy: 0.0000e+00\n",
      "Epoch 17/100\n",
      "31/31 [==============================] - 0s 824us/step - loss: 72.6847 - accuracy: 0.0000e+00\n",
      "Epoch 18/100\n",
      "31/31 [==============================] - 0s 834us/step - loss: 70.8944 - accuracy: 0.0000e+00\n",
      "Epoch 19/100\n",
      "31/31 [==============================] - 0s 809us/step - loss: 69.2786 - accuracy: 0.0000e+00\n",
      "Epoch 20/100\n",
      "31/31 [==============================] - 0s 858us/step - loss: 67.9290 - accuracy: 0.0000e+00\n",
      "Epoch 21/100\n",
      "31/31 [==============================] - 0s 812us/step - loss: 66.0995 - accuracy: 0.0000e+00\n",
      "Epoch 22/100\n",
      "31/31 [==============================] - 0s 825us/step - loss: 65.6773 - accuracy: 0.0000e+00\n",
      "Epoch 23/100\n",
      "31/31 [==============================] - 0s 935us/step - loss: 64.3284 - accuracy: 0.0000e+00\n",
      "Epoch 24/100\n",
      "31/31 [==============================] - 0s 925us/step - loss: 63.0861 - accuracy: 0.0000e+00\n",
      "Epoch 25/100\n",
      "31/31 [==============================] - 0s 924us/step - loss: 62.2711 - accuracy: 0.0000e+00\n",
      "Epoch 26/100\n",
      "31/31 [==============================] - 0s 909us/step - loss: 60.8810 - accuracy: 0.0000e+00\n",
      "Epoch 27/100\n",
      "31/31 [==============================] - 0s 848us/step - loss: 60.7640 - accuracy: 0.0000e+00\n",
      "Epoch 28/100\n",
      "31/31 [==============================] - 0s 992us/step - loss: 59.2080 - accuracy: 0.0000e+00\n",
      "Epoch 29/100\n",
      "31/31 [==============================] - 0s 896us/step - loss: 58.4418 - accuracy: 0.0000e+00\n",
      "Epoch 30/100\n",
      "31/31 [==============================] - 0s 877us/step - loss: 57.9926 - accuracy: 0.0000e+00\n",
      "Epoch 31/100\n",
      "31/31 [==============================] - 0s 881us/step - loss: 56.8647 - accuracy: 0.0000e+00\n",
      "Epoch 32/100\n",
      "31/31 [==============================] - 0s 1ms/step - loss: 56.9392 - accuracy: 0.0000e+00\n",
      "Epoch 33/100\n",
      "31/31 [==============================] - 0s 875us/step - loss: 56.2236 - accuracy: 0.0000e+00\n",
      "Epoch 34/100\n",
      "31/31 [==============================] - 0s 862us/step - loss: 55.2748 - accuracy: 0.0000e+00\n",
      "Epoch 35/100\n",
      "31/31 [==============================] - 0s 831us/step - loss: 54.5697 - accuracy: 0.0000e+00\n",
      "Epoch 36/100\n",
      "31/31 [==============================] - 0s 983us/step - loss: 53.8581 - accuracy: 0.0000e+00\n",
      "Epoch 37/100\n",
      "31/31 [==============================] - 0s 896us/step - loss: 53.6215 - accuracy: 0.0000e+00\n",
      "Epoch 38/100\n",
      "31/31 [==============================] - 0s 904us/step - loss: 53.5025 - accuracy: 0.0000e+00\n",
      "Epoch 39/100\n",
      "31/31 [==============================] - 0s 827us/step - loss: 52.7443 - accuracy: 0.0000e+00\n",
      "Epoch 40/100\n",
      "31/31 [==============================] - 0s 887us/step - loss: 52.2949 - accuracy: 0.0000e+00\n",
      "Epoch 41/100\n",
      "31/31 [==============================] - 0s 899us/step - loss: 52.6903 - accuracy: 0.0000e+00\n",
      "Epoch 42/100\n",
      "31/31 [==============================] - 0s 863us/step - loss: 51.4802 - accuracy: 0.0000e+00\n",
      "Epoch 43/100\n",
      "31/31 [==============================] - 0s 856us/step - loss: 51.1102 - accuracy: 0.0000e+00\n",
      "Epoch 44/100\n",
      "31/31 [==============================] - 0s 871us/step - loss: 50.8760 - accuracy: 0.0000e+00\n",
      "Epoch 45/100\n",
      "31/31 [==============================] - 0s 918us/step - loss: 50.8579 - accuracy: 0.0000e+00\n",
      "Epoch 46/100\n",
      "31/31 [==============================] - 0s 783us/step - loss: 52.1315 - accuracy: 0.0000e+00\n",
      "Epoch 47/100\n",
      "31/31 [==============================] - 0s 931us/step - loss: 50.5422 - accuracy: 0.0000e+00\n",
      "Epoch 48/100\n",
      "31/31 [==============================] - 0s 809us/step - loss: 50.0736 - accuracy: 0.0000e+00\n",
      "Epoch 49/100\n",
      "31/31 [==============================] - 0s 823us/step - loss: 49.2767 - accuracy: 0.0000e+00\n",
      "Epoch 50/100\n",
      "31/31 [==============================] - 0s 981us/step - loss: 48.5995 - accuracy: 0.0000e+00\n",
      "Epoch 51/100\n",
      "31/31 [==============================] - 0s 881us/step - loss: 49.0822 - accuracy: 0.0000e+00\n",
      "Epoch 52/100\n",
      "31/31 [==============================] - 0s 828us/step - loss: 48.6059 - accuracy: 0.0000e+00\n",
      "Epoch 53/100\n",
      "31/31 [==============================] - 0s 881us/step - loss: 48.1848 - accuracy: 0.0000e+00\n",
      "Epoch 54/100\n",
      "31/31 [==============================] - 0s 906us/step - loss: 47.9451 - accuracy: 0.0000e+00\n",
      "Epoch 55/100\n",
      "31/31 [==============================] - 0s 841us/step - loss: 47.6927 - accuracy: 0.0000e+00\n",
      "Epoch 56/100\n",
      "31/31 [==============================] - 0s 815us/step - loss: 48.4984 - accuracy: 0.0000e+00\n",
      "Epoch 57/100\n",
      "31/31 [==============================] - 0s 907us/step - loss: 47.7017 - accuracy: 0.0000e+00\n",
      "Epoch 58/100\n",
      "31/31 [==============================] - 0s 777us/step - loss: 47.4069 - accuracy: 0.0000e+00\n",
      "Epoch 59/100\n",
      "31/31 [==============================] - 0s 896us/step - loss: 47.2549 - accuracy: 0.0000e+00\n",
      "Epoch 60/100\n",
      "31/31 [==============================] - 0s 862us/step - loss: 46.8955 - accuracy: 0.0000e+00\n",
      "Epoch 61/100\n",
      "31/31 [==============================] - 0s 822us/step - loss: 46.7876 - accuracy: 0.0000e+00\n",
      "Epoch 62/100\n",
      "31/31 [==============================] - 0s 882us/step - loss: 46.7230 - accuracy: 0.0000e+00\n",
      "Epoch 63/100\n",
      "31/31 [==============================] - 0s 805us/step - loss: 46.4954 - accuracy: 0.0000e+00\n",
      "Epoch 64/100\n",
      "31/31 [==============================] - 0s 781us/step - loss: 47.0451 - accuracy: 0.0000e+00\n",
      "Epoch 65/100\n",
      "31/31 [==============================] - 0s 809us/step - loss: 46.2576 - accuracy: 0.0000e+00\n",
      "Epoch 66/100\n",
      "31/31 [==============================] - 0s 787us/step - loss: 46.0281 - accuracy: 0.0000e+00\n",
      "Epoch 67/100\n",
      "31/31 [==============================] - 0s 779us/step - loss: 46.3344 - accuracy: 0.0000e+00\n",
      "Epoch 68/100\n",
      "31/31 [==============================] - 0s 815us/step - loss: 45.6914 - accuracy: 0.0000e+00\n",
      "Epoch 69/100\n",
      "31/31 [==============================] - 0s 904us/step - loss: 45.7907 - accuracy: 0.0000e+00\n",
      "Epoch 70/100\n",
      "31/31 [==============================] - 0s 818us/step - loss: 45.6227 - accuracy: 0.0000e+00\n",
      "Epoch 71/100\n",
      "31/31 [==============================] - 0s 807us/step - loss: 45.7192 - accuracy: 0.0000e+00\n",
      "Epoch 72/100\n",
      "31/31 [==============================] - 0s 870us/step - loss: 45.4045 - accuracy: 0.0000e+00\n",
      "Epoch 73/100\n",
      "31/31 [==============================] - 0s 801us/step - loss: 45.5383 - accuracy: 0.0000e+00\n",
      "Epoch 74/100\n",
      "31/31 [==============================] - 0s 836us/step - loss: 45.0645 - accuracy: 0.0000e+00\n",
      "Epoch 75/100\n",
      "31/31 [==============================] - 0s 798us/step - loss: 45.3020 - accuracy: 0.0000e+00\n",
      "Epoch 76/100\n"
     ]
    },
    {
     "name": "stdout",
     "output_type": "stream",
     "text": [
      "31/31 [==============================] - 0s 833us/step - loss: 45.0069 - accuracy: 0.0000e+00\n",
      "Epoch 77/100\n",
      "31/31 [==============================] - 0s 796us/step - loss: 46.2849 - accuracy: 0.0000e+00\n",
      "Epoch 78/100\n",
      "31/31 [==============================] - 0s 816us/step - loss: 45.1628 - accuracy: 0.0000e+00\n",
      "Epoch 79/100\n",
      "31/31 [==============================] - 0s 905us/step - loss: 45.4288 - accuracy: 0.0000e+00\n",
      "Epoch 80/100\n",
      "31/31 [==============================] - 0s 838us/step - loss: 45.1220 - accuracy: 0.0000e+00\n",
      "Epoch 81/100\n",
      "31/31 [==============================] - 0s 888us/step - loss: 44.5476 - accuracy: 0.0000e+00\n",
      "Epoch 82/100\n",
      "31/31 [==============================] - 0s 761us/step - loss: 44.8158 - accuracy: 0.0000e+00\n",
      "Epoch 83/100\n",
      "31/31 [==============================] - 0s 772us/step - loss: 45.4583 - accuracy: 0.0000e+00\n",
      "Epoch 84/100\n",
      "31/31 [==============================] - 0s 886us/step - loss: 44.3263 - accuracy: 0.0000e+00\n",
      "Epoch 85/100\n",
      "31/31 [==============================] - 0s 849us/step - loss: 45.2304 - accuracy: 0.0000e+00\n",
      "Epoch 86/100\n",
      "31/31 [==============================] - 0s 906us/step - loss: 45.2231 - accuracy: 0.0000e+00\n",
      "Epoch 87/100\n",
      "31/31 [==============================] - 0s 818us/step - loss: 44.3049 - accuracy: 0.0000e+00\n",
      "Epoch 88/100\n",
      "31/31 [==============================] - 0s 752us/step - loss: 44.1712 - accuracy: 0.0000e+00\n",
      "Epoch 89/100\n",
      "31/31 [==============================] - 0s 778us/step - loss: 44.5049 - accuracy: 0.0000e+00\n",
      "Epoch 90/100\n",
      "31/31 [==============================] - 0s 802us/step - loss: 44.1465 - accuracy: 0.0000e+00\n",
      "Epoch 91/100\n",
      "31/31 [==============================] - 0s 788us/step - loss: 43.9325 - accuracy: 0.0000e+00\n",
      "Epoch 92/100\n",
      "31/31 [==============================] - 0s 794us/step - loss: 44.1681 - accuracy: 0.0000e+00\n",
      "Epoch 93/100\n",
      "31/31 [==============================] - 0s 746us/step - loss: 44.8562 - accuracy: 0.0000e+00\n",
      "Epoch 94/100\n",
      "31/31 [==============================] - 0s 776us/step - loss: 44.0720 - accuracy: 0.0000e+00\n",
      "Epoch 95/100\n",
      "31/31 [==============================] - 0s 755us/step - loss: 45.0565 - accuracy: 0.0000e+00\n",
      "Epoch 96/100\n",
      "31/31 [==============================] - 0s 797us/step - loss: 43.7068 - accuracy: 0.0000e+00\n",
      "Epoch 97/100\n",
      "31/31 [==============================] - 0s 758us/step - loss: 43.8399 - accuracy: 0.0000e+00\n",
      "Epoch 98/100\n",
      "31/31 [==============================] - 0s 753us/step - loss: 43.6667 - accuracy: 0.0000e+00\n",
      "Epoch 99/100\n",
      "31/31 [==============================] - 0s 815us/step - loss: 43.8590 - accuracy: 0.0000e+00\n",
      "Epoch 100/100\n",
      "31/31 [==============================] - 0s 802us/step - loss: 43.6117 - accuracy: 0.0000e+00\n"
     ]
    },
    {
     "data": {
      "text/plain": [
       "<tensorflow.python.keras.callbacks.History at 0x7f0a4f017a10>"
      ]
     },
     "execution_count": 16,
     "metadata": {},
     "output_type": "execute_result"
    }
   ],
   "source": [
    "dataset = windowed_dataset(x_train, window_size, batch_size, shuffle_buffer_size)\n",
    "print(dataset)\n",
    "l0 = tf.keras.layers.Dense(1, input_shape = [window_size])\n",
    "model = tf.keras.Sequential([l0])\n",
    "\n",
    "model.compile(optimizer = tf.keras.optimizers.SGD(lr = 1e-6, momentum = 0.9), loss = 'mse', metrics = ['accuracy'])\n",
    "model.fit(dataset, epochs = 100, verbose = 1)\n"
   ]
  },
  {
   "cell_type": "code",
   "execution_count": 17,
   "metadata": {},
   "outputs": [
    {
     "name": "stdout",
     "output_type": "stream",
     "text": [
      "Layer weights = [array([[-0.03024518],\n",
      "       [-0.00444156],\n",
      "       [-0.00078844],\n",
      "       [ 0.02258332],\n",
      "       [ 0.03722422],\n",
      "       [-0.04061478],\n",
      "       [-0.02112405],\n",
      "       [ 0.03599463],\n",
      "       [-0.01561766],\n",
      "       [ 0.08012119],\n",
      "       [-0.02858727],\n",
      "       [-0.05317844],\n",
      "       [-0.06489955],\n",
      "       [ 0.04072175],\n",
      "       [ 0.05272447],\n",
      "       [ 0.06215809],\n",
      "       [ 0.0486878 ],\n",
      "       [ 0.15759704],\n",
      "       [ 0.34169367],\n",
      "       [ 0.3670909 ]], dtype=float32), array([0.0199619], dtype=float32)]\n"
     ]
    }
   ],
   "source": [
    "print(\"Layer weights = {}\".format(l0.get_weights()))"
   ]
  },
  {
   "cell_type": "code",
   "execution_count": 18,
   "metadata": {},
   "outputs": [
    {
     "data": {
      "image/png": "[encoded data removed]",
      "text/plain": [
       "<Figure size 720x432 with 1 Axes>"
      ]
     },
     "metadata": {
      "needs_background": "light"
     },
     "output_type": "display_data"
    }
   ],
   "source": [
    "forecast = []\n",
    "\n",
    "for time in range(len(series) - window_size):\n",
    "    forecast.append(model.predict(series[time:time + window_size][np.newaxis]))\n",
    "\n",
    "forecast = forecast[split_time-window_size:]\n",
    "results = np.array(forecast)[:, 0, 0]\n",
    "\n",
    "\n",
    "plt.figure(figsize=(10, 6))\n",
    "\n",
    "plot_series(time_valid, x_valid)\n",
    "plot_series(time_valid, results)"
   ]
  },
  {
   "cell_type": "code",
   "execution_count": 19,
   "metadata": {},
   "outputs": [
    {
     "data": {
      "text/plain": [
       "4.9281497"
      ]
     },
     "execution_count": 19,
     "metadata": {},
     "output_type": "execute_result"
    }
   ],
   "source": [
    "tf.keras.metrics.mean_absolute_error(x_valid, results).numpy()"
   ]
  }
 ],
 "metadata": {
  "kernelspec": {
   "display_name": "tensorflow",
   "language": "python",
   "name": "tensorflow"
  },
  "language_info": {
   "codemirror_mode": {
    "name": "ipython",
    "version": 3
   },
   "file_extension": ".py",
   "mimetype": "text/x-python",
   "name": "python",
   "nbconvert_exporter": "python",
   "pygments_lexer": "ipython3",
   "version": "3.7.7"
  }
 },
 "nbformat": 4,
 "nbformat_minor": 4
}
